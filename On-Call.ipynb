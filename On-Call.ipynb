{
 "cells": [
  {
   "cell_type": "code",
   "execution_count": 2,
   "metadata": {},
   "outputs": [],
   "source": [
    "import matplotlib.pyplot as plt\n",
    "import pandas as pd\n",
    "import os\n",
    "import glob\n",
    "import numpy as np\n",
    "import math\n",
    "from sklearn.linear_model import LinearRegression\n",
    "from matplotlib.colors import LinearSegmentedColormap\n"
   ]
  },
  {
   "cell_type": "code",
   "execution_count": 23,
   "metadata": {},
   "outputs": [
    {
     "name": "stdout",
     "output_type": "stream",
     "text": [
      "Processing file data/waterloo/on-call/charging\\csv-26397-6378 [100%]\n",
      "CPU times: total: 203 ms\n",
      "Wall time: 691 ms\n"
     ]
    }
   ],
   "source": [
    "%%time\n",
    "# Flights from Apr 16 to May 23\n",
    "\n",
    "subfolders = [f.path for f in os.scandir('data/waterloo/on-call/charging') if f.is_dir()] #Scans Directory\n",
    "total_subfolders = len(subfolders)\n",
    "\n",
    "\n",
    "\n",
    "df_time_list = []\n",
    "df_alt_list = []\n",
    "df_bat1C_list = []\n",
    "df_bat2C_list = []\n",
    "df_bat1V_list = []\n",
    "df_bat2V_list = []\n",
    "df_bat1A_list = []\n",
    "df_bat2A_list = []\n",
    "df_soc_list = []\n",
    "df_oat_list = []\n",
    "\n",
    "# Iterates and read each csv\n",
    "for i, subfolder in enumerate(subfolders):\n",
    "    csv_files = glob.glob(os.path.join(subfolder, '*.csv'))\n",
    "    print(f\"\\rProcessing file {subfolder} [{round((i+1) / total_subfolders * 100)}%]\", end='', flush = True) #Status Print\n",
    "    if csv_files:\n",
    "        # Reads the first csv file in each flight folder\n",
    "        main_csv = csv_files[0]\n",
    "        with open(main_csv) as f:\n",
    "            total_rows = sum(1 for line in f)\n",
    "        # Skips every 10 rows for efficiency (1 sec iterations estimate)\n",
    "        skip_rows = [i for i in range(1, total_rows) if i % 10 != 0]\n",
    "    df_csv = pd.read_csv(main_csv,skiprows=skip_rows)\n",
    "    df_time_list.append(df_csv[\" time(min)\"])\n",
    "    df_bat1C_list.append(df_csv[\" bat 1 soc\"])\n",
    "    df_bat2C_list.append(df_csv[\" bat 2 soc\"])\n",
    "    df_bat1V_list.append(df_csv[\" bat 1 voltage\"])\n",
    "    df_bat2V_list.append(df_csv[\" bat 2 voltage\"])\n",
    "    df_bat1A_list.append(df_csv[\" bat 1 current\"])\n",
    "    df_bat2A_list.append(df_csv[\" bat 2 current\"])\n",
    "    df_oat_list.append(df_csv[\" OAT\"])\n",
    "    \n",
    "    \n",
    "\n",
    "    \n",
    "# Main df\n",
    "df_power = pd.DataFrame({\"time\": df_time_list, \"bat1C\": df_bat1C_list, \"bat2C\": df_bat2C_list, \"bat1V\": df_bat1V_list, \"bat2V\": df_bat2V_list, \"bat1A\": df_bat1A_list, \"bat2A\": df_bat2A_list,\"oat\": df_oat_list})\n",
    "\n",
    "df_soh1 = pd.DataFrame({\"bat1\": soh_list1})\n",
    "df_soh2 = pd.DataFrame({\"bat2\": soh_list2})\n",
    "\n",
    "print('') "
   ]
  },
  {
   "cell_type": "code",
   "execution_count": null,
   "metadata": {},
   "outputs": [],
   "source": []
  }
 ],
 "metadata": {
  "kernelspec": {
   "display_name": "base",
   "language": "python",
   "name": "python3"
  },
  "language_info": {
   "codemirror_mode": {
    "name": "ipython",
    "version": 3
   },
   "file_extension": ".py",
   "mimetype": "text/x-python",
   "name": "python",
   "nbconvert_exporter": "python",
   "pygments_lexer": "ipython3",
   "version": "3.11.9"
  }
 },
 "nbformat": 4,
 "nbformat_minor": 2
}
