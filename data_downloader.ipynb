{
 "cells": [
  {
   "cell_type": "markdown",
   "metadata": {},
   "source": [
    "## Pipistrel Data Downloader"
   ]
  },
  {
   "cell_type": "markdown",
   "metadata": {},
   "source": [
    "### Selenium Data_Downloader"
   ]
  },
  {
   "cell_type": "code",
   "execution_count": 1,
   "metadata": {},
   "outputs": [],
   "source": [
    "from selenium import webdriver\n",
    "from selenium.webdriver.common.by import By\n",
    "from selenium.webdriver.common.keys import Keys\n",
    "from zipfile import ZipFile\n",
    "from zipfile import BadZipFile\n",
    "from datetime import datetime\n",
    "import time\n",
    "import os \n",
    "import requests\n",
    "import io"
   ]
  },
  {
   "cell_type": "code",
   "execution_count": 3,
   "metadata": {},
   "outputs": [],
   "source": [
    "login_url = 'https://cloud.pipistrel.si/electro/login'\n",
    "# username = 'paulparker'\n",
    "# password = 'dfh5fg616'\n",
    "username = 'nancy_marshall'\n",
    "password = 'yr4EJvXu8YMc6ti'"
   ]
  },
  {
   "cell_type": "code",
   "execution_count": 10,
   "metadata": {},
   "outputs": [],
   "source": [
    "driver = webdriver.Chrome()\n",
    "driver.get(login_url)"
   ]
  },
  {
   "cell_type": "code",
   "execution_count": 11,
   "metadata": {},
   "outputs": [],
   "source": [
    "username_field = driver.find_element(\"name\", \"username\")\n",
    "password_field = driver.find_element(\"name\", \"password\")\n",
    "username_field.send_keys(username)\n",
    "password_field.send_keys(password)\n",
    "password_field.send_keys(Keys.RETURN)\n",
    "time.sleep(3)"
   ]
  },
  {
   "cell_type": "code",
   "execution_count": 12,
   "metadata": {},
   "outputs": [],
   "source": [
    "output_folder = os.path.join(r'C:\\Users\\Nathan\\Documents\\Backups\\Vancouver') #<-- change it to your folder's name "
   ]
  },
  {
   "cell_type": "code",
   "execution_count": 13,
   "metadata": {},
   "outputs": [
    {
     "name": "stdout",
     "output_type": "stream",
     "text": [
      "Unzipped contents to: C:\\Users\\Nathan\\Documents\\Backups\\Vancouver\\csv-27185-6639_jun28_1035pm_dc\n",
      "Unzipped contents to: C:\\Users\\Nathan\\Documents\\Backups\\Vancouver\\csv-27187-6641_jun29_1242am_ch\n"
     ]
    },
    {
     "ename": "TimeoutException",
     "evalue": "Message: timeout: Timed out receiving message from renderer: 296.870\n  (Session info: chrome=126.0.6478.127)\nStacktrace:\n\tGetHandleVerifier [0x00007FF71A3BEEA2+31554]\n\t(No symbol) [0x00007FF71A337ED9]\n\t(No symbol) [0x00007FF71A1F872A]\n\t(No symbol) [0x00007FF71A1E0FDD]\n\t(No symbol) [0x00007FF71A1E0CE0]\n\t(No symbol) [0x00007FF71A1DEC6D]\n\t(No symbol) [0x00007FF71A1DF47F]\n\t(No symbol) [0x00007FF71A1EE25E]\n\t(No symbol) [0x00007FF71A20674F]\n\t(No symbol) [0x00007FF71A20C16A]\n\t(No symbol) [0x00007FF71A1DFC0A]\n\t(No symbol) [0x00007FF71A20656D]\n\t(No symbol) [0x00007FF71A28CCD5]\n\t(No symbol) [0x00007FF71A26CDD3]\n\t(No symbol) [0x00007FF71A23A33B]\n\t(No symbol) [0x00007FF71A23AED1]\n\tGetHandleVerifier [0x00007FF71A6C8B1D+3217341]\n\tGetHandleVerifier [0x00007FF71A715AE3+3532675]\n\tGetHandleVerifier [0x00007FF71A70B0E0+3489152]\n\tGetHandleVerifier [0x00007FF71A46E776+750614]\n\t(No symbol) [0x00007FF71A34375F]\n\t(No symbol) [0x00007FF71A33EB14]\n\t(No symbol) [0x00007FF71A33ECA2]\n\t(No symbol) [0x00007FF71A32E16F]\n\tBaseThreadInitThunk [0x00007FFA2D37257D+29]\n\tRtlUserThreadStart [0x00007FFA2E20AF28+40]\n",
     "output_type": "error",
     "traceback": [
      "\u001b[1;31m---------------------------------------------------------------------------\u001b[0m",
      "\u001b[1;31mTimeoutException\u001b[0m                          Traceback (most recent call last)",
      "Cell \u001b[1;32mIn[13], line 7\u001b[0m\n\u001b[0;32m      5\u001b[0m \u001b[38;5;28;01mwhile\u001b[39;00m current_id \u001b[38;5;241m<\u001b[39m\u001b[38;5;241m=\u001b[39m final_id:\n\u001b[0;32m      6\u001b[0m     page_url \u001b[38;5;241m=\u001b[39m \u001b[38;5;124mf\u001b[39m\u001b[38;5;124m\"\u001b[39m\u001b[38;5;132;01m{\u001b[39;00mbase_url\u001b[38;5;132;01m}\u001b[39;00m\u001b[38;5;124m/\u001b[39m\u001b[38;5;132;01m{\u001b[39;00mcurrent_id\u001b[38;5;132;01m}\u001b[39;00m\u001b[38;5;124m\"\u001b[39m\n\u001b[1;32m----> 7\u001b[0m     \u001b[43mdriver\u001b[49m\u001b[38;5;241;43m.\u001b[39;49m\u001b[43mget\u001b[49m\u001b[43m(\u001b[49m\u001b[43mpage_url\u001b[49m\u001b[43m)\u001b[49m\n\u001b[0;32m      8\u001b[0m     csv_links \u001b[38;5;241m=\u001b[39m driver\u001b[38;5;241m.\u001b[39mfind_elements(By\u001b[38;5;241m.\u001b[39mLINK_TEXT, \u001b[38;5;124m\"\u001b[39m\u001b[38;5;124mDownload CSV file\u001b[39m\u001b[38;5;124m\"\u001b[39m)\n\u001b[0;32m      9\u001b[0m     \u001b[38;5;28;01mfor\u001b[39;00m csv_link \u001b[38;5;129;01min\u001b[39;00m csv_links:\n",
      "File \u001b[1;32mc:\\Users\\Nathan\\anaconda3\\Lib\\site-packages\\selenium\\webdriver\\remote\\webdriver.py:363\u001b[0m, in \u001b[0;36mWebDriver.get\u001b[1;34m(self, url)\u001b[0m\n\u001b[0;32m    361\u001b[0m \u001b[38;5;28;01mdef\u001b[39;00m \u001b[38;5;21mget\u001b[39m(\u001b[38;5;28mself\u001b[39m, url: \u001b[38;5;28mstr\u001b[39m) \u001b[38;5;241m-\u001b[39m\u001b[38;5;241m>\u001b[39m \u001b[38;5;28;01mNone\u001b[39;00m:\n\u001b[0;32m    362\u001b[0m \u001b[38;5;250m    \u001b[39m\u001b[38;5;124;03m\"\"\"Loads a web page in the current browser session.\"\"\"\u001b[39;00m\n\u001b[1;32m--> 363\u001b[0m     \u001b[38;5;28;43mself\u001b[39;49m\u001b[38;5;241;43m.\u001b[39;49m\u001b[43mexecute\u001b[49m\u001b[43m(\u001b[49m\u001b[43mCommand\u001b[49m\u001b[38;5;241;43m.\u001b[39;49m\u001b[43mGET\u001b[49m\u001b[43m,\u001b[49m\u001b[43m \u001b[49m\u001b[43m{\u001b[49m\u001b[38;5;124;43m\"\u001b[39;49m\u001b[38;5;124;43murl\u001b[39;49m\u001b[38;5;124;43m\"\u001b[39;49m\u001b[43m:\u001b[49m\u001b[43m \u001b[49m\u001b[43murl\u001b[49m\u001b[43m}\u001b[49m\u001b[43m)\u001b[49m\n",
      "File \u001b[1;32mc:\\Users\\Nathan\\anaconda3\\Lib\\site-packages\\selenium\\webdriver\\remote\\webdriver.py:354\u001b[0m, in \u001b[0;36mWebDriver.execute\u001b[1;34m(self, driver_command, params)\u001b[0m\n\u001b[0;32m    352\u001b[0m response \u001b[38;5;241m=\u001b[39m \u001b[38;5;28mself\u001b[39m\u001b[38;5;241m.\u001b[39mcommand_executor\u001b[38;5;241m.\u001b[39mexecute(driver_command, params)\n\u001b[0;32m    353\u001b[0m \u001b[38;5;28;01mif\u001b[39;00m response:\n\u001b[1;32m--> 354\u001b[0m     \u001b[38;5;28;43mself\u001b[39;49m\u001b[38;5;241;43m.\u001b[39;49m\u001b[43merror_handler\u001b[49m\u001b[38;5;241;43m.\u001b[39;49m\u001b[43mcheck_response\u001b[49m\u001b[43m(\u001b[49m\u001b[43mresponse\u001b[49m\u001b[43m)\u001b[49m\n\u001b[0;32m    355\u001b[0m     response[\u001b[38;5;124m\"\u001b[39m\u001b[38;5;124mvalue\u001b[39m\u001b[38;5;124m\"\u001b[39m] \u001b[38;5;241m=\u001b[39m \u001b[38;5;28mself\u001b[39m\u001b[38;5;241m.\u001b[39m_unwrap_value(response\u001b[38;5;241m.\u001b[39mget(\u001b[38;5;124m\"\u001b[39m\u001b[38;5;124mvalue\u001b[39m\u001b[38;5;124m\"\u001b[39m, \u001b[38;5;28;01mNone\u001b[39;00m))\n\u001b[0;32m    356\u001b[0m     \u001b[38;5;28;01mreturn\u001b[39;00m response\n",
      "File \u001b[1;32mc:\\Users\\Nathan\\anaconda3\\Lib\\site-packages\\selenium\\webdriver\\remote\\errorhandler.py:229\u001b[0m, in \u001b[0;36mErrorHandler.check_response\u001b[1;34m(self, response)\u001b[0m\n\u001b[0;32m    227\u001b[0m         alert_text \u001b[38;5;241m=\u001b[39m value[\u001b[38;5;124m\"\u001b[39m\u001b[38;5;124malert\u001b[39m\u001b[38;5;124m\"\u001b[39m]\u001b[38;5;241m.\u001b[39mget(\u001b[38;5;124m\"\u001b[39m\u001b[38;5;124mtext\u001b[39m\u001b[38;5;124m\"\u001b[39m)\n\u001b[0;32m    228\u001b[0m     \u001b[38;5;28;01mraise\u001b[39;00m exception_class(message, screen, stacktrace, alert_text)  \u001b[38;5;66;03m# type: ignore[call-arg]  # mypy is not smart enough here\u001b[39;00m\n\u001b[1;32m--> 229\u001b[0m \u001b[38;5;28;01mraise\u001b[39;00m exception_class(message, screen, stacktrace)\n",
      "\u001b[1;31mTimeoutException\u001b[0m: Message: timeout: Timed out receiving message from renderer: 296.870\n  (Session info: chrome=126.0.6478.127)\nStacktrace:\n\tGetHandleVerifier [0x00007FF71A3BEEA2+31554]\n\t(No symbol) [0x00007FF71A337ED9]\n\t(No symbol) [0x00007FF71A1F872A]\n\t(No symbol) [0x00007FF71A1E0FDD]\n\t(No symbol) [0x00007FF71A1E0CE0]\n\t(No symbol) [0x00007FF71A1DEC6D]\n\t(No symbol) [0x00007FF71A1DF47F]\n\t(No symbol) [0x00007FF71A1EE25E]\n\t(No symbol) [0x00007FF71A20674F]\n\t(No symbol) [0x00007FF71A20C16A]\n\t(No symbol) [0x00007FF71A1DFC0A]\n\t(No symbol) [0x00007FF71A20656D]\n\t(No symbol) [0x00007FF71A28CCD5]\n\t(No symbol) [0x00007FF71A26CDD3]\n\t(No symbol) [0x00007FF71A23A33B]\n\t(No symbol) [0x00007FF71A23AED1]\n\tGetHandleVerifier [0x00007FF71A6C8B1D+3217341]\n\tGetHandleVerifier [0x00007FF71A715AE3+3532675]\n\tGetHandleVerifier [0x00007FF71A70B0E0+3489152]\n\tGetHandleVerifier [0x00007FF71A46E776+750614]\n\t(No symbol) [0x00007FF71A34375F]\n\t(No symbol) [0x00007FF71A33EB14]\n\t(No symbol) [0x00007FF71A33ECA2]\n\t(No symbol) [0x00007FF71A32E16F]\n\tBaseThreadInitThunk [0x00007FFA2D37257D+29]\n\tRtlUserThreadStart [0x00007FFA2E20AF28+40]\n"
     ]
    }
   ],
   "source": [
    "base_url = 'https://cloud.pipistrel.si/electro/flight'\n",
    "start_id = 6623  # Update flight id number to where you want to start download \n",
    "final_id = 6848  # Update this with the final flight ID you want to reach\n",
    "current_id = start_id\n",
    "while current_id <= final_id:\n",
    "    page_url = f\"{base_url}/{current_id}\"\n",
    "    driver.get(page_url)\n",
    "    csv_links = driver.find_elements(By.LINK_TEXT, \"Download CSV file\")\n",
    "    for csv_link in csv_links:\n",
    "        file_name = os.path.basename(csv_link.get_attribute('href'))\n",
    "        table = driver.find_element(By.CLASS_NAME, \"white-link\")\n",
    "        rows = table.find_elements(By.TAG_NAME, \"tr\")\n",
    "        flight_info = {}\n",
    "\n",
    "        for row in rows:\n",
    "            column = row.find_elements(By.TAG_NAME, \"td\")\n",
    "            if len(column) == 2:\n",
    "                key = column[0].text.strip().replace(\" \", \"_\")\n",
    "                value = column[1].text.strip()\n",
    "                flight_info[key] = value\n",
    "\n",
    "        try:\n",
    "            date_time_obj = datetime.strptime(flight_info['Date'].replace('.', ''), \"%b %d, %Y, %I:%M %p\" if ':' in flight_info['Date'] else \"%b %d, %Y, %I %p\")\n",
    "        except ValueError:\n",
    "            try:\n",
    "                date_time_obj = datetime.strptime(flight_info['Date'].replace('.', ''), \"%B %d, %Y, %I:%M %p\" if ':' in flight_info['Date'] else \"%B %d, %Y, %I %p\")\n",
    "            except ValueError:\n",
    "                pass\n",
    "            \n",
    "        formatted_date = date_time_obj.strftime(\"%b%d\").lower()\n",
    "        formatted_time = date_time_obj.strftime(\"%I%M%p\").lower()\n",
    "\n",
    "        flight_type = flight_info.get('Flight_type', '').lower()\n",
    "        type_abbreviation = 'ch' if flight_type == 'charging' else 'gt' if flight_type == 'ground test' else 'dc'\n",
    "        new_file_name = f\"{file_name.split('.')[0]}_{formatted_date}_{formatted_time}_{type_abbreviation}.zip\"\n",
    "        new_file_path = os.path.join(output_folder, new_file_name)\n",
    "\n",
    "        # Download the zip file\n",
    "        response = requests.get(csv_link.get_attribute('href'))\n",
    "        try:\n",
    "            with ZipFile(io.BytesIO(response.content), 'r') as zip_ref:\n",
    "                # Provide the directory where you want to extract the contents\n",
    "                extraction_path = os.path.join(output_folder, f\"{file_name.split('.')[0]}_{formatted_date}_{formatted_time}_{type_abbreviation}\")\n",
    "                zip_ref.extractall(extraction_path)\n",
    "                print(f\"Unzipped contents to: {extraction_path}\")\n",
    "        except BadZipFile:\n",
    "            pass\n",
    "\n",
    "    current_id += 1\n",
    "driver.quit()"
   ]
  }
 ],
 "metadata": {
  "kernelspec": {
   "display_name": "Python 3",
   "language": "python",
   "name": "python3"
  },
  "language_info": {
   "codemirror_mode": {
    "name": "ipython",
    "version": 3
   },
   "file_extension": ".py",
   "mimetype": "text/x-python",
   "name": "python",
   "nbconvert_exporter": "python",
   "pygments_lexer": "ipython3",
   "version": "3.11.9"
  }
 },
 "nbformat": 4,
 "nbformat_minor": 2
}
