{
 "cells": [
  {
   "cell_type": "markdown",
   "metadata": {},
   "source": [
    "## Pipistrel Data Downloader"
   ]
  },
  {
   "cell_type": "markdown",
   "metadata": {},
   "source": [
    "### Selenium Data_Downloader"
   ]
  },
  {
   "cell_type": "code",
   "execution_count": 1,
   "metadata": {},
   "outputs": [],
   "source": [
    "from selenium import webdriver\n",
    "from selenium.webdriver.common.by import By\n",
    "from selenium.webdriver.common.keys import Keys\n",
    "from zipfile import ZipFile\n",
    "from zipfile import BadZipFile\n",
    "from datetime import datetime\n",
    "import time\n",
    "import os \n",
    "import requests\n",
    "import io"
   ]
  },
  {
   "cell_type": "code",
   "execution_count": 2,
   "metadata": {},
   "outputs": [],
   "source": [
    "login_url = 'https://cloud.pipistrel.si/electro/login'\n",
    "# username = 'paulparker'\n",
    "# password = 'dfh5fg616'\n",
    "username = 'nancy_marshall'\n",
    "password = 'yr4EJvXu8YMc6ti'"
   ]
  },
  {
   "cell_type": "code",
   "execution_count": 7,
   "metadata": {},
   "outputs": [],
   "source": [
    "driver = webdriver.Chrome()\n",
    "driver.get(login_url)"
   ]
  },
  {
   "cell_type": "code",
   "execution_count": 8,
   "metadata": {},
   "outputs": [],
   "source": [
    "username_field = driver.find_element(\"name\", \"username\")\n",
    "password_field = driver.find_element(\"name\", \"password\")\n",
    "username_field.send_keys(username)\n",
    "password_field.send_keys(password)\n",
    "password_field.send_keys(Keys.RETURN)\n",
    "time.sleep(3)"
   ]
  },
  {
   "cell_type": "code",
   "execution_count": 6,
   "metadata": {},
   "outputs": [],
   "source": [
    "output_folder = os.path.join(r'C:\\Users\\Nathan\\Documents\\Backups\\Vancouver') #<-- change it to your folder's name "
   ]
  },
  {
   "cell_type": "code",
   "execution_count": 9,
   "metadata": {},
   "outputs": [
    {
     "name": "stdout",
     "output_type": "stream",
     "text": [
      "Unzipped contents to: C:\\Users\\Nathan\\Documents\\Backups\\Vancouver\\csv-27717-6838_jul08_0900pm_ch\n",
      "Unzipped contents to: C:\\Users\\Nathan\\Documents\\Backups\\Vancouver\\csv-27719-6839_jul08_0948pm_dc\n",
      "Unzipped contents to: C:\\Users\\Nathan\\Documents\\Backups\\Vancouver\\csv-27721-6840_jul09_0400pm_ch\n",
      "Unzipped contents to: C:\\Users\\Nathan\\Documents\\Backups\\Vancouver\\csv-27723-6841_jul09_0508pm_dc\n",
      "Unzipped contents to: C:\\Users\\Nathan\\Documents\\Backups\\Vancouver\\csv-27725-6842_jul09_0600pm_ch\n",
      "Unzipped contents to: C:\\Users\\Nathan\\Documents\\Backups\\Vancouver\\csv-27727-6843_jul09_0724pm_dc\n",
      "Unzipped contents to: C:\\Users\\Nathan\\Documents\\Backups\\Vancouver\\csv-27729-6844_jul10_0600pm_ch\n",
      "Unzipped contents to: C:\\Users\\Nathan\\Documents\\Backups\\Vancouver\\csv-27731-6845_jul10_0713pm_dc\n",
      "Unzipped contents to: C:\\Users\\Nathan\\Documents\\Backups\\Vancouver\\csv-27733-6846_jul10_0742pm_dc\n",
      "Unzipped contents to: C:\\Users\\Nathan\\Documents\\Backups\\Vancouver\\csv-27735-6847_jul10_0742pm_ch\n",
      "Unzipped contents to: C:\\Users\\Nathan\\Documents\\Backups\\Vancouver\\csv-27737-6848_jul11_1033pm_dc\n",
      "Unzipped contents to: C:\\Users\\Nathan\\Documents\\Backups\\Vancouver\\csv-27859-6867_jul11_1130pm_ch\n",
      "Unzipped contents to: C:\\Users\\Nathan\\Documents\\Backups\\Vancouver\\csv-27861-6868_jul14_0651pm_dc\n",
      "Unzipped contents to: C:\\Users\\Nathan\\Documents\\Backups\\Vancouver\\csv-27863-6869_jul14_1142pm_ch\n",
      "Unzipped contents to: C:\\Users\\Nathan\\Documents\\Backups\\Vancouver\\csv-27865-6870_jul14_0830pm_dc\n",
      "Unzipped contents to: C:\\Users\\Nathan\\Documents\\Backups\\Vancouver\\csv-27867-6871_jul14_0700pm_ch\n",
      "Unzipped contents to: C:\\Users\\Nathan\\Documents\\Backups\\Vancouver\\csv-27869-6872_jul14_0845pm_dc\n",
      "Unzipped contents to: C:\\Users\\Nathan\\Documents\\Backups\\Vancouver\\csv-27914-6885_jul15_0847pm_dc\n",
      "Unzipped contents to: C:\\Users\\Nathan\\Documents\\Backups\\Vancouver\\csv-27982-6919_jul17_0500am_ch\n",
      "Unzipped contents to: C:\\Users\\Nathan\\Documents\\Backups\\Vancouver\\csv-27984-6920_jul16_0959pm_dc\n",
      "Unzipped contents to: C:\\Users\\Nathan\\Documents\\Backups\\Vancouver\\csv-27986-6921_jul16_0959pm_ch\n",
      "Unzipped contents to: C:\\Users\\Nathan\\Documents\\Backups\\Vancouver\\csv-27992-6924_jul17_0934pm_dc\n",
      "Unzipped contents to: C:\\Users\\Nathan\\Documents\\Backups\\Vancouver\\csv-28034-6925_jul17_1030pm_ch\n",
      "Unzipped contents to: C:\\Users\\Nathan\\Documents\\Backups\\Vancouver\\csv-28036-6926_jul20_0514pm_dc\n",
      "Unzipped contents to: C:\\Users\\Nathan\\Documents\\Backups\\Vancouver\\csv-28038-6927_jul20_0610pm_ch\n",
      "Unzipped contents to: C:\\Users\\Nathan\\Documents\\Backups\\Vancouver\\csv-28040-6928_jul20_0728pm_dc\n",
      "Unzipped contents to: C:\\Users\\Nathan\\Documents\\Backups\\Vancouver\\csv-28042-6929_jul20_0900pm_ch\n",
      "Unzipped contents to: C:\\Users\\Nathan\\Documents\\Backups\\Vancouver\\csv-28223-6990_jul26_1140pm_dc\n",
      "Unzipped contents to: C:\\Users\\Nathan\\Documents\\Backups\\Vancouver\\csv-28225-6991_jul27_1230am_ch\n",
      "Unzipped contents to: C:\\Users\\Nathan\\Documents\\Backups\\Vancouver\\csv-28227-6992_jul27_0506pm_dc\n",
      "Unzipped contents to: C:\\Users\\Nathan\\Documents\\Backups\\Vancouver\\csv-28229-6993_jul27_0600pm_ch\n",
      "Unzipped contents to: C:\\Users\\Nathan\\Documents\\Backups\\Vancouver\\csv-28231-6994_jul27_0715pm_dc\n",
      "Unzipped contents to: C:\\Users\\Nathan\\Documents\\Backups\\Vancouver\\csv-28233-6995_jul27_0815pm_ch\n",
      "Unzipped contents to: C:\\Users\\Nathan\\Documents\\Backups\\Vancouver\\csv-28235-6996_jul27_0936pm_dc\n",
      "Unzipped contents to: C:\\Users\\Nathan\\Documents\\Backups\\Vancouver\\csv-28237-6997_jul27_1100pm_ch\n",
      "Unzipped contents to: C:\\Users\\Nathan\\Documents\\Backups\\Vancouver\\csv-28239-6998_jul28_0439pm_dc\n",
      "Unzipped contents to: C:\\Users\\Nathan\\Documents\\Backups\\Vancouver\\csv-28241-6999_jul28_0530pm_ch\n",
      "Unzipped contents to: C:\\Users\\Nathan\\Documents\\Backups\\Vancouver\\csv-28243-7000_jul28_0603pm_dc\n",
      "Unzipped contents to: C:\\Users\\Nathan\\Documents\\Backups\\Vancouver\\csv-28245-7001_jul28_0700pm_ch\n",
      "Unzipped contents to: C:\\Users\\Nathan\\Documents\\Backups\\Vancouver\\csv-28259-7002_jul30_0516pm_dc\n",
      "Unzipped contents to: C:\\Users\\Nathan\\Documents\\Backups\\Vancouver\\csv-28261-7003_jul30_0700pm_ch\n"
     ]
    }
   ],
   "source": [
    "base_url = 'https://cloud.pipistrel.si/electro/flight'\n",
    "start_id = 6800  # Update flight id number to where you want to start download \n",
    "final_id = 7003  # Update this with the final flight ID you want to reach\n",
    "current_id = start_id\n",
    "while current_id <= final_id:\n",
    "    page_url = f\"{base_url}/{current_id}\"\n",
    "    driver.get(page_url)\n",
    "    csv_links = driver.find_elements(By.LINK_TEXT, \"Download CSV file\")\n",
    "    for csv_link in csv_links:\n",
    "        file_name = os.path.basename(csv_link.get_attribute('href'))\n",
    "        table = driver.find_element(By.CLASS_NAME, \"white-link\")\n",
    "        rows = table.find_elements(By.TAG_NAME, \"tr\")\n",
    "        flight_info = {}\n",
    "\n",
    "        for row in rows:\n",
    "            column = row.find_elements(By.TAG_NAME, \"td\")\n",
    "            if len(column) == 2:\n",
    "                key = column[0].text.strip().replace(\" \", \"_\")\n",
    "                value = column[1].text.strip()\n",
    "                flight_info[key] = value\n",
    "\n",
    "        try:\n",
    "            date_time_obj = datetime.strptime(flight_info['Date'].replace('.', ''), \"%b %d, %Y, %I:%M %p\" if ':' in flight_info['Date'] else \"%b %d, %Y, %I %p\")\n",
    "        except ValueError:\n",
    "            try:\n",
    "                date_time_obj = datetime.strptime(flight_info['Date'].replace('.', ''), \"%B %d, %Y, %I:%M %p\" if ':' in flight_info['Date'] else \"%B %d, %Y, %I %p\")\n",
    "            except ValueError:\n",
    "                pass\n",
    "            \n",
    "        formatted_date = date_time_obj.strftime(\"%b%d\").lower()\n",
    "        formatted_time = date_time_obj.strftime(\"%I%M%p\").lower()\n",
    "\n",
    "        flight_type = flight_info.get('Flight_type', '').lower()\n",
    "        type_abbreviation = 'ch' if flight_type == 'charging' else 'gt' if flight_type == 'ground test' else 'dc'\n",
    "        new_file_name = f\"{file_name.split('.')[0]}_{formatted_date}_{formatted_time}_{type_abbreviation}.zip\"\n",
    "        new_file_path = os.path.join(output_folder, new_file_name)\n",
    "\n",
    "        # Download the zip file\n",
    "        response = requests.get(csv_link.get_attribute('href'))\n",
    "        try:\n",
    "            with ZipFile(io.BytesIO(response.content), 'r') as zip_ref:\n",
    "                # Provide the directory where you want to extract the contents\n",
    "                extraction_path = os.path.join(output_folder, f\"{file_name.split('.')[0]}_{formatted_date}_{formatted_time}_{type_abbreviation}\")\n",
    "                zip_ref.extractall(extraction_path)\n",
    "                print(f\"Unzipped contents to: {extraction_path}\")\n",
    "        except BadZipFile:\n",
    "            pass\n",
    "\n",
    "    current_id += 1\n",
    "driver.quit()"
   ]
  }
 ],
 "metadata": {
  "kernelspec": {
   "display_name": "Python 3",
   "language": "python",
   "name": "python3"
  },
  "language_info": {
   "codemirror_mode": {
    "name": "ipython",
    "version": 3
   },
   "file_extension": ".py",
   "mimetype": "text/x-python",
   "name": "python",
   "nbconvert_exporter": "python",
   "pygments_lexer": "ipython3",
   "version": "3.11.9"
  }
 },
 "nbformat": 4,
 "nbformat_minor": 2
}
